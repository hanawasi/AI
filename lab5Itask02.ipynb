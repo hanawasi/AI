{
 "cells": [
  {
   "cell_type": "code",
   "execution_count": 7,
   "id": "2d25dce4-9a7a-4248-a585-271b89f3d1e5",
   "metadata": {},
   "outputs": [
    {
     "name": "stdout",
     "output_type": "stream",
     "text": [
      "Task 1:\n",
      "Predicted Gender for the new entry: male\n",
      "Accuracy of the model: 1.0\n",
      "Confusion Matrix:\n",
      "[[1 0]\n",
      " [0 1]]\n",
      "\n",
      "Task 2:\n",
      "After adding the new entry:\n",
      "Accuracy of the model: 0.6666666666666666\n",
      "Confusion Matrix:\n",
      "[[1 1]\n",
      " [0 1]]\n"
     ]
    }
   ],
   "source": [
    "from sklearn.tree import DecisionTreeClassifier\n",
    "from sklearn.model_selection import train_test_split\n",
    "from sklearn.metrics import accuracy_score, confusion_matrix, classification_report\n",
    "\n",
    "# Dataset from Table 1\n",
    "data = [\n",
    "    [6.00, 180, 12], [5.92, 190, 11], [5.58, 170, 12], [5.92, 165, 10],\n",
    "    [5.00, 100, 6], [5.50, 150, 8], [5.42, 130, 7], [5.75, 150, 9]\n",
    "]\n",
    "labels = ['male', 'male', 'male', 'male', 'female', 'female', 'female', 'female']\n",
    "\n",
    "# Split dataset into training and testing sets\n",
    "X_train, X_test, y_train, y_test = train_test_split(data, labels, test_size=0.25, random_state=42)\n",
    "\n",
    "# Train Decision Tree model\n",
    "model = DecisionTreeClassifier()\n",
    "model.fit(X_train, y_train)\n",
    "\n",
    "# Predict on test set\n",
    "y_pred = model.predict(X_test)\n",
    "\n",
    "# Predict a new entry\n",
    "new_entry = [[5.90, 170, 11]]  # Example new data\n",
    "new_prediction = model.predict(new_entry)\n",
    "\n",
    "# Calculate accuracy and confusion matrix\n",
    "accuracy = accuracy_score(y_test, y_pred)\n",
    "conf_matrix = confusion_matrix(y_test, y_pred)\n",
    "\n",
    "# Output results\n",
    "print(\"Task 1:\")\n",
    "print(\"Predicted Gender for the new entry:\", new_prediction[0])\n",
    "print(\"Accuracy of the model:\", accuracy)\n",
    "print(\"Confusion Matrix:\")\n",
    "print(conf_matrix)\n",
    "# Add the new entry to dataset\n",
    "data.append([5.90, 170, 11])  # Example new entry\n",
    "labels.append(new_prediction[0])  # Add the predicted label for the new entry\n",
    "\n",
    "# Re-split dataset\n",
    "X_train, X_test, y_train, y_test = train_test_split(data, labels, test_size=0.25, random_state=42)\n",
    "\n",
    "# Retrain Decision Tree model\n",
    "model.fit(X_train, y_train)\n",
    "\n",
    "# Predict on test set again\n",
    "y_pred = model.predict(X_test)\n",
    "\n",
    "# Calculate accuracy and confusion matrix after adding the new entry\n",
    "accuracy = accuracy_score(y_test, y_pred)\n",
    "conf_matrix = confusion_matrix(y_test, y_pred)\n",
    "\n",
    "# Output results\n",
    "print(\"\\nTask 2:\")\n",
    "print(\"After adding the new entry:\")\n",
    "print(\"Accuracy of the model:\", accuracy)\n",
    "print(\"Confusion Matrix:\")\n",
    "print(conf_matrix)\n",
    "\n"
   ]
  },
  {
   "cell_type": "code",
   "execution_count": null,
   "id": "caaf61fb-cb1c-4fe5-a16a-115a25ea2279",
   "metadata": {},
   "outputs": [],
   "source": []
  }
 ],
 "metadata": {
  "kernelspec": {
   "display_name": "Python 3 (ipykernel)",
   "language": "python",
   "name": "python3"
  },
  "language_info": {
   "codemirror_mode": {
    "name": "ipython",
    "version": 3
   },
   "file_extension": ".py",
   "mimetype": "text/x-python",
   "name": "python",
   "nbconvert_exporter": "python",
   "pygments_lexer": "ipython3",
   "version": "3.12.7"
  }
 },
 "nbformat": 4,
 "nbformat_minor": 5
}
