{
 "cells": [
  {
   "cell_type": "code",
   "execution_count": 26,
   "id": "b9635719-b9a3-4edc-a3ef-5c1134483d22",
   "metadata": {},
   "outputs": [],
   "source": [
    "import pandas as pd\n",
    "import numpy as np\n",
    "from sklearn.tree import DecisionTreeClassifier\n"
   ]
  },
  {
   "cell_type": "code",
   "execution_count": 27,
   "id": "2569960a-e226-4bd0-9446-4e06c01d1901",
   "metadata": {},
   "outputs": [],
   "source": [
    "Gender = [\"male\", \"male\", \"male\", \"male\", \"female\", \"female\", \"female\", \"female\"]\n",
    "Height = [6.00, 5.92, 5.58, 5.92, 5.00, 5.50, 5.42, 5.75]\n",
    "Weight = [180, 190, 170, 165, 100, 150, 130, 150]\n",
    "Foot_Size = [12, 11, 12, 10, 6, 8, 7, 9]\n"
   ]
  },
  {
   "cell_type": "code",
   "execution_count": 28,
   "id": "6259a0d7-c989-48ab-945c-65818d5bcdd5",
   "metadata": {},
   "outputs": [],
   "source": [
    "#creating labelEncoder\n",
    "le = preprocessing.LabelEncoder()\n",
    "# Converting string into numbers.\n",
    "Gender_encoded=le.fit_transform(Gender)\n",
    "Height_encoded=le.fit_transform(Height)\n",
    "Weight_encoded=le.fit_transform(Weight)\n",
    "Foot_Size_encoded=le.fit_transform(Foot_Size)\n"
   ]
  },
  {
   "cell_type": "code",
   "execution_count": 29,
   "id": "b3334795-dcef-4600-ae1a-f0ca4d379213",
   "metadata": {},
   "outputs": [],
   "source": [
    "features=list(zip(Gender_encoded,Height_encoded,Weight_encoded))"
   ]
  },
  {
   "cell_type": "code",
   "execution_count": 50,
   "id": "96b6ff64-040c-4181-a0fa-4702a970bb97",
   "metadata": {},
   "outputs": [],
   "source": [
    "\n",
    "from sklearn.model_selection import train_test_split\n",
    "features_train, features_test,label_train,label_test=train_test_split(features, Foot_Size_encoded, test_size=0.8, random_state=42)\n"
   ]
  },
  {
   "cell_type": "code",
   "execution_count": 51,
   "id": "3fe6176f-8a27-4afe-980c-341eef91d7b9",
   "metadata": {},
   "outputs": [],
   "source": [
    "Classifier =  DecisionTreeClassifier()"
   ]
  },
  {
   "cell_type": "code",
   "execution_count": 52,
   "id": "64d9e9aa-5861-430a-aad4-56a5b771ab6f",
   "metadata": {},
   "outputs": [],
   "source": [
    "Classifier = Classifier.fit(features_train,label_train)"
   ]
  },
  {
   "cell_type": "code",
   "execution_count": 53,
   "id": "65459597-d00a-4bc7-a083-9bfe0ce56deb",
   "metadata": {},
   "outputs": [],
   "source": [
    "predicted = Classifier.predict(features_test)"
   ]
  },
  {
   "cell_type": "code",
   "execution_count": 54,
   "id": "340c4bd0-0f2f-4c40-afb3-167c329b749f",
   "metadata": {},
   "outputs": [
    {
     "name": "stdout",
     "output_type": "stream",
     "text": [
      "Prediction: [1 1 1 1 1 1 1]\n"
     ]
    }
   ],
   "source": [
    "print(\"Prediction:\", predicted)"
   ]
  },
  {
   "cell_type": "code",
   "execution_count": 55,
   "id": "a38e1893-639c-4803-a2f4-1d2b873bb905",
   "metadata": {},
   "outputs": [],
   "source": [
    "new_entry=[[8.00 ,380,12]]"
   ]
  },
  {
   "cell_type": "code",
   "execution_count": 56,
   "id": "45f701cd-1e85-4331-a79a-edbbed045362",
   "metadata": {},
   "outputs": [],
   "source": [
    "prediction = Classifier.predict(new_entry)"
   ]
  },
  {
   "cell_type": "code",
   "execution_count": 57,
   "id": "9939955a-ad26-403e-90ed-c5540b398456",
   "metadata": {},
   "outputs": [
    {
     "name": "stdout",
     "output_type": "stream",
     "text": [
      "Prediction: [1 1 1 1 1 1 1]\n"
     ]
    }
   ],
   "source": [
    "print(\"Prediction:\", predicted)"
   ]
  },
  {
   "cell_type": "code",
   "execution_count": 58,
   "id": "1143296f-d3d1-4732-88e0-9a361e00fe1c",
   "metadata": {},
   "outputs": [
    {
     "name": "stdout",
     "output_type": "stream",
     "text": [
      "Confusion Matrix:\n",
      "[[0 1 0 0 0 0 0]\n",
      " [0 0 0 0 0 0 0]\n",
      " [0 1 0 0 0 0 0]\n",
      " [0 1 0 0 0 0 0]\n",
      " [0 1 0 0 0 0 0]\n",
      " [0 1 0 0 0 0 0]\n",
      " [0 2 0 0 0 0 0]]\n"
     ]
    }
   ],
   "source": [
    "conf_mat = confusion_matrix(label_test, predicted)\n",
    "print(\"Confusion Matrix:\")\n",
    "print(conf_mat)\n"
   ]
  },
  {
   "cell_type": "code",
   "execution_count": 60,
   "id": "c2c9e53d-57e2-4670-a950-14b298bddf04",
   "metadata": {},
   "outputs": [
    {
     "name": "stdout",
     "output_type": "stream",
     "text": [
      "Accuracy: 0.0\n"
     ]
    }
   ],
   "source": [
    "accuracy = accuracy_score(label_test, predicted)\n",
    "print(\"Accuracy:\", accuracy)\n"
   ]
  },
  {
   "cell_type": "code",
   "execution_count": null,
   "id": "12cdd4bf-8aa2-4b40-8cc9-129bcafdfed9",
   "metadata": {},
   "outputs": [],
   "source": []
  },
  {
   "cell_type": "code",
   "execution_count": null,
   "id": "b8d7a141-0003-44ac-848f-9ff6bdf5c5d3",
   "metadata": {},
   "outputs": [],
   "source": []
  }
 ],
 "metadata": {
  "kernelspec": {
   "display_name": "Python 3 (ipykernel)",
   "language": "python",
   "name": "python3"
  },
  "language_info": {
   "codemirror_mode": {
    "name": "ipython",
    "version": 3
   },
   "file_extension": ".py",
   "mimetype": "text/x-python",
   "name": "python",
   "nbconvert_exporter": "python",
   "pygments_lexer": "ipython3",
   "version": "3.11.7"
  }
 },
 "nbformat": 4,
 "nbformat_minor": 5
}
