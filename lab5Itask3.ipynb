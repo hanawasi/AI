{
 "cells": [
  {
   "cell_type": "code",
   "execution_count": 5,
   "id": "196b5191-42e3-4834-90bf-85f49e315e43",
   "metadata": {},
   "outputs": [
    {
     "name": "stdout",
     "output_type": "stream",
     "text": [
      "\n",
      "Task 3:\n",
      "Predicted Gender for the new entry: male\n",
      "Accuracy of the model: 1.0\n",
      "Confusion Matrix:\n",
      "[[1 0]\n",
      " [0 1]]\n"
     ]
    }
   ],
   "source": [
    "# Add the new entry to dataset\n",
    "import numpy as np\n",
    "from sklearn.tree import DecisionTreeClassifier\n",
    "from sklearn.metrics import accuracy_score, confusion_matrix, classification_report\n",
    "from sklearn.model_selection import train_test_split\n",
    "\n",
    "# Dataset as numpy array\n",
    "data = np.array([\n",
    "    [6.00, 180, 12], [5.92, 190, 11], [5.58, 170, 12], [5.92, 165, 10],\n",
    "    [5.00, 100, 6], [5.50, 150, 8], [5.42, 130, 7], [5.75, 150, 9]\n",
    "])\n",
    "labels = np.array(['male', 'male', 'male', 'male', 'female', 'female', 'female', 'female'])\n",
    "\n",
    "# Split dataset into training and testing sets\n",
    "X_train, X_test, y_train, y_test = train_test_split(data, labels, test_size=0.25, random_state=42)\n",
    "\n",
    "# Train Decision Tree model\n",
    "model = DecisionTreeClassifier()\n",
    "model.fit(X_train, y_train)\n",
    "\n",
    "# Predict on test set\n",
    "y_pred = model.predict(X_test)\n",
    "\n",
    "# Predict a new entry\n",
    "new_entry = np.array([[5.90, 170, 11]])\n",
    "new_prediction = model.predict(new_entry)\n",
    "\n",
    "# Calculate accuracy and confusion matrix\n",
    "accuracy = accuracy_score(y_test, y_pred)\n",
    "conf_matrix = confusion_matrix(y_test, y_pred)\n",
    "\n",
    "# Output results\n",
    "print(\"\\nTask 3:\")\n",
    "print(\"Predicted Gender for the new entry:\", new_prediction[0])\n",
    "print(\"Accuracy of the model:\", accuracy)\n",
    "print(\"Confusion Matrix:\")\n",
    "print(conf_matrix)\n",
    "\n",
    "\n",
    "\n"
   ]
  },
  {
   "cell_type": "code",
   "execution_count": null,
   "id": "217108e7-dc66-4e23-9fc4-82eae6939206",
   "metadata": {},
   "outputs": [],
   "source": []
  }
 ],
 "metadata": {
  "kernelspec": {
   "display_name": "Python 3 (ipykernel)",
   "language": "python",
   "name": "python3"
  },
  "language_info": {
   "codemirror_mode": {
    "name": "ipython",
    "version": 3
   },
   "file_extension": ".py",
   "mimetype": "text/x-python",
   "name": "python",
   "nbconvert_exporter": "python",
   "pygments_lexer": "ipython3",
   "version": "3.12.7"
  }
 },
 "nbformat": 4,
 "nbformat_minor": 5
}
