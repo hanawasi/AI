{
 "cells": [
  {
   "cell_type": "code",
   "execution_count": 3,
   "id": "0943093b-37bc-4c48-b218-6ed638573604",
   "metadata": {},
   "outputs": [
    {
     "name": "stdout",
     "output_type": "stream",
     "text": [
      "Decision Tree Model for Red/Blue Dataset\n",
      "\n",
      "Predicted class for new example (Brightness=45, Saturation=30): Blue\n",
      "\n",
      "Model Evaluation:\n",
      "Accuracy of the model: 0.3333333333333333\n",
      "\n",
      "Confusion Matrix:\n",
      "[[1 0]\n",
      " [2 0]]\n"
     ]
    }
   ],
   "source": [
    "from sklearn.tree import DecisionTreeClassifier\n",
    "from sklearn.model_selection import train_test_split\n",
    "from sklearn.metrics import accuracy_score, confusion_matrix, classification_report\n",
    "\n",
    "# Dataset from the table\n",
    "data = [\n",
    "    [40, 20], [50, 50], [60, 90], [10, 25], \n",
    "    [70, 70], [60, 10], [25, 80]\n",
    "]\n",
    "labels = ['Red', 'Blue', 'Blue', 'Red', 'Blue', 'Red', 'Blue']\n",
    "\n",
    "# Split dataset into training and testing sets\n",
    "X_train, X_test, y_train, y_test = train_test_split(data, labels, test_size=0.3, random_state=42)\n",
    "\n",
    "# Initialize and train the Decision Tree Classifier\n",
    "model = DecisionTreeClassifier()\n",
    "model.fit(X_train, y_train)\n",
    "\n",
    "# Predict on the test set\n",
    "y_pred = model.predict(X_test)\n",
    "\n",
    "# Predict a new example\n",
    "new_example = [[45, 30]]  # Example Brightness and Saturation\n",
    "new_prediction = model.predict(new_example)\n",
    "\n",
    "# Calculate accuracy and confusion matrix\n",
    "accuracy = accuracy_score(y_test, y_pred)\n",
    "conf_matrix = confusion_matrix(y_test, y_pred)\n",
    "\n",
    "# Print results\n",
    "print(\"Decision Tree Model for Red/Blue Dataset\\n\")\n",
    "print(\"Predicted class for new example (Brightness=45, Saturation=30):\", new_prediction[0])\n",
    "print(\"\\nModel Evaluation:\")\n",
    "print(\"Accuracy of the model:\", accuracy)\n",
    "print(\"\\nConfusion Matrix:\")\n",
    "print(conf_matrix)\n"
   ]
  },
  {
   "cell_type": "code",
   "execution_count": null,
   "id": "c501b966-4b26-4bff-8ae3-6e5dc0541542",
   "metadata": {},
   "outputs": [],
   "source": []
  }
 ],
 "metadata": {
  "kernelspec": {
   "display_name": "Python 3 (ipykernel)",
   "language": "python",
   "name": "python3"
  },
  "language_info": {
   "codemirror_mode": {
    "name": "ipython",
    "version": 3
   },
   "file_extension": ".py",
   "mimetype": "text/x-python",
   "name": "python",
   "nbconvert_exporter": "python",
   "pygments_lexer": "ipython3",
   "version": "3.12.7"
  }
 },
 "nbformat": 4,
 "nbformat_minor": 5
}
