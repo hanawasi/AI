{
 "cells": [
  {
   "cell_type": "code",
   "execution_count": 7,
   "id": "0535b093-0167-4559-897b-2164bd119ea1",
   "metadata": {},
   "outputs": [
    {
     "name": "stdout",
     "output_type": "stream",
     "text": [
      "Updated DataFrame with Predicted Salaries:\n",
      "    Experience  Salary     Predicted\n",
      "0          0.5    2500   2233.069296\n",
      "1          0.0    2250   1663.895197\n",
      "2          1.0    2750   2802.243394\n",
      "3          5.0    8000   7355.636182\n",
      "4          8.0    9000  10770.680773\n",
      "5          4.0    6900   6217.287985\n",
      "6         15.0   20000  18739.118152\n",
      "7          7.0    8500   9632.332576\n",
      "8          3.0    6000   5078.939788\n",
      "9          2.0    3500   3940.591591\n",
      "10        12.0   15000  15324.073561\n",
      "11        10.0   13000  13047.377167\n",
      "12        14.0   18000  17600.769955\n",
      "13         6.0    7500   8493.984379\n"
     ]
    }
   ],
   "source": [
    "# Import necessary libraries\n",
    "import pandas as pd\n",
    "from sklearn.linear_model import LinearRegression\n",
    "\n",
    "# Step 1: Define the data\n",
    "data = {\n",
    "    \"Experience\": [0.5, 0.0, 1.0, 5.0, 8.0, 4.0, 15.0, 7.0, 3.0, 2.0, 12.0, 10.0, 14.0, 6.0],\n",
    "    \"Salary\": [2500, 2250, 2750, 8000, 9000, 6900, 20000, 8500, 6000, 3500, 15000, 13000, 18000, 7500]\n",
    "}\n",
    "\n",
    "# Step 2: Convert data into a DataFrame\n",
    "df = pd.DataFrame(data)\n",
    "\n",
    "# Step 3: Prepare data for the model\n",
    "X = df[[\"Experience\"]]  # Independent variable\n",
    "y = df[\"Salary\"]        # Dependent variable\n",
    "\n",
    "# Step 4: Train the Linear Regression model\n",
    "model = LinearRegression()\n",
    "model.fit(X, y)\n",
    "\n",
    "# Step 5: Predict salaries\n",
    "df[\"Predicted\"] = model.predict(X)\n",
    "\n",
    "# Step 6: Display the updated DataFrame\n",
    "print(\"Updated DataFrame with Predicted Salaries:\")\n",
    "print(df)\n"
   ]
  },
  {
   "cell_type": "code",
   "execution_count": null,
   "id": "877cfba3-56cf-4a9d-9507-61b5696cc70d",
   "metadata": {},
   "outputs": [],
   "source": []
  }
 ],
 "metadata": {
  "kernelspec": {
   "display_name": "Python 3 (ipykernel)",
   "language": "python",
   "name": "python3"
  },
  "language_info": {
   "codemirror_mode": {
    "name": "ipython",
    "version": 3
   },
   "file_extension": ".py",
   "mimetype": "text/x-python",
   "name": "python",
   "nbconvert_exporter": "python",
   "pygments_lexer": "ipython3",
   "version": "3.12.7"
  }
 },
 "nbformat": 4,
 "nbformat_minor": 5
}
